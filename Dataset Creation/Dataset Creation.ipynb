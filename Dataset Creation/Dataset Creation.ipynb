{
 "cells": [
  {
   "cell_type": "code",
   "execution_count": null,
   "id": "dc3e3c23",
   "metadata": {},
   "outputs": [],
   "source": [
    "import pandas as pd\n",
    "import nltk\n",
    "from nltk.sentiment.vader import SentimentIntensityAnalyzer\n",
    "from nltk.corpus import stopwords\n",
    "from nltk.tokenize import word_tokenize\n",
    "from nltk.stem import WordNetLemmatizer\n",
    "nltk.download('all')"
   ]
  },
  {
   "cell_type": "code",
   "execution_count": null,
   "id": "7e849425",
   "metadata": {},
   "outputs": [],
   "source": [
    "email_addresses = pd.read_parquet('emails_addresses.parquet')"
   ]
  },
  {
   "cell_type": "code",
   "execution_count": null,
   "id": "c036289d",
   "metadata": {},
   "outputs": [],
   "source": [
    "def has_link(text):\n",
    "    return 'http' in text"
   ]
  },
  {
   "cell_type": "code",
   "execution_count": null,
   "id": "87c5d889",
   "metadata": {},
   "outputs": [],
   "source": [
    "def check_caps(text):\n",
    "    s = text\n",
    "    new_s = [c.strip() for c in re.split('(\\W+)', s) if c.strip() != '']\n",
    "    \n",
    "    check_caps = False\n",
    "    for string in new_s:\n",
    "        if (string.isupper()):\n",
    "            check_caps = True\n",
    "    return check_caps"
   ]
  },
  {
   "cell_type": "code",
   "execution_count": null,
   "id": "282701b3",
   "metadata": {},
   "outputs": [],
   "source": [
    "def num_people(text):\n",
    "    arr = text.split(\",\")\n",
    "    return len(arr)"
   ]
  },
  {
   "cell_type": "code",
   "execution_count": null,
   "id": "b71c85ac",
   "metadata": {},
   "outputs": [],
   "source": [
    "def preprocess_text(text):\n",
    "\n",
    "    tokens = word_tokenize(text.lower())\n",
    "    filtered_tokens = [token for token in tokens if token not in stopwords.words('english')]\n",
    "    lemmatizer = WordNetLemmatizer()\n",
    "    lemmatized_tokens = [lemmatizer.lemmatize(token) for token in filtered_tokens]\n",
    "    processed_text = ' '.join(lemmatized_tokens)\n",
    "\n",
    "    return processed_text"
   ]
  },
  {
   "cell_type": "code",
   "execution_count": null,
   "id": "97b1d129",
   "metadata": {},
   "outputs": [],
   "source": [
    "analyzer = SentimentIntensityAnalyzer()\n",
    "\n",
    "def get_sentiment(text):\n",
    "    scores = analyzer.polarity_scores(text)\n",
    "    sentiment = scores['pos']\n",
    "    return sentiment"
   ]
  },
  {
   "cell_type": "code",
   "execution_count": null,
   "id": "ba3defc9",
   "metadata": {},
   "outputs": [],
   "source": [
    "def strip_plain_text(text):\n",
    "    text = text.replace('\\n', '')\n",
    "    text = text.replace('\\t', '')\n",
    "    return text"
   ]
  },
  {
   "cell_type": "code",
   "execution_count": null,
   "id": "612d0c95",
   "metadata": {},
   "outputs": [],
   "source": [
    "def return_chars(text):\n",
    "    return len(text)"
   ]
  },
  {
   "cell_type": "code",
   "execution_count": null,
   "id": "1eb1c009",
   "metadata": {},
   "outputs": [],
   "source": [
    "def return_words(text):\n",
    "    return len(text.split(\" \"))"
   ]
  },
  {
   "cell_type": "code",
   "execution_count": null,
   "id": "39d6f057",
   "metadata": {},
   "outputs": [],
   "source": [
    "def return_lines(text):\n",
    "    return len(text.split(\".\"))"
   ]
  },
  {
   "cell_type": "code",
   "execution_count": null,
   "id": "d7896826",
   "metadata": {},
   "outputs": [],
   "source": [
    "email_addresses['has_link'] = email_addresses['RawEmailBody'].apply(has_link)\n",
    "email_addresses['subject_has_caps'] = email_addresses['Subject'].apply(check_caps)\n",
    "email_addresses['num_recipients'] = email_addresses['Recipients'].apply(num_people)\n",
    "email_addresses['processed_text'] = email_addresses['PlainTextEmailBody'].apply(preprocess_text)\n",
    "email_addresses['sentiment'] = email_addresses['PlainTextEmailBody'].apply(get_sentiment)\n",
    "email_addresses['clean_text'] = email_addresses['PlainTextEmailBody'].apply(strip_plain_text)\n",
    "email_addresses['char_count'] = email_addresses['clean_text'].apply(return_chars)\n",
    "email_addresses['word_count'] = email_addresses['clean_text'].apply(return_words)\n",
    "email_addresses['line_count'] = email_addresses['clean_text'].apply(return_lines)"
   ]
  },
  {
   "cell_type": "code",
   "execution_count": null,
   "id": "92489bc0",
   "metadata": {},
   "outputs": [],
   "source": [
    "def switch_to_binary(text):\n",
    "    if text == 'spam':\n",
    "        return 1\n",
    "    elif text == 'ham':\n",
    "        return 0"
   ]
  },
  {
   "cell_type": "code",
   "execution_count": null,
   "id": "823fa122",
   "metadata": {},
   "outputs": [],
   "source": [
    "l = data['label'] \n",
    "l = data['label'].apply(switch_to_binary)\n",
    "email_addresses['label']  = l"
   ]
  }
 ],
 "metadata": {
  "kernelspec": {
   "display_name": "Python 3 (ipykernel)",
   "language": "python",
   "name": "python3"
  },
  "language_info": {
   "codemirror_mode": {
    "name": "ipython",
    "version": 3
   },
   "file_extension": ".py",
   "mimetype": "text/x-python",
   "name": "python",
   "nbconvert_exporter": "python",
   "pygments_lexer": "ipython3",
   "version": "3.11.5"
  }
 },
 "nbformat": 4,
 "nbformat_minor": 5
}
